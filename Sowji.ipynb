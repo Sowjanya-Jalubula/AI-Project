{
 "cells": [
  {
   "cell_type": "code",
   "execution_count": 8,
   "id": "52d34190",
   "metadata": {},
   "outputs": [],
   "source": [
    "import pandas as pd\n",
    "import numpy as np\n",
    "from sklearn.metrics.pairwise import cosine_similarity"
   ]
  },
  {
   "cell_type": "code",
   "execution_count": 9,
   "id": "2dd329a0",
   "metadata": {},
   "outputs": [],
   "source": [
    "# Load the movie ratings dataset\n",
    "ratings_df = pd.read_csv('rating.csv')"
   ]
  },
  {
   "cell_type": "code",
   "execution_count": 10,
   "id": "2e272b66",
   "metadata": {},
   "outputs": [],
   "source": [
    "ratings_df1=ratings_df.head(200)"
   ]
  },
  {
   "cell_type": "code",
   "execution_count": 11,
   "id": "64c4b759",
   "metadata": {},
   "outputs": [],
   "source": [
    "# Load the movies dataset\n",
    "movies_df = pd.read_csv('movie.csv')"
   ]
  },
  {
   "cell_type": "code",
   "execution_count": 12,
   "id": "cc1b1239",
   "metadata": {},
   "outputs": [],
   "source": [
    "movies_df1=movies_df.head(200)"
   ]
  },
  {
   "cell_type": "code",
   "execution_count": 16,
   "id": "8228fd5c",
   "metadata": {},
   "outputs": [
    {
     "data": {
      "text/html": [
       "<div>\n",
       "<style scoped>\n",
       "    .dataframe tbody tr th:only-of-type {\n",
       "        vertical-align: middle;\n",
       "    }\n",
       "\n",
       "    .dataframe tbody tr th {\n",
       "        vertical-align: top;\n",
       "    }\n",
       "\n",
       "    .dataframe thead th {\n",
       "        text-align: right;\n",
       "    }\n",
       "</style>\n",
       "<table border=\"1\" class=\"dataframe\">\n",
       "  <thead>\n",
       "    <tr style=\"text-align: right;\">\n",
       "      <th></th>\n",
       "      <th>movieId</th>\n",
       "      <th>title</th>\n",
       "      <th>genres</th>\n",
       "    </tr>\n",
       "  </thead>\n",
       "  <tbody>\n",
       "    <tr>\n",
       "      <th>0</th>\n",
       "      <td>1</td>\n",
       "      <td>Toy Story (1995)</td>\n",
       "      <td>Adventure|Animation|Children|Comedy|Fantasy</td>\n",
       "    </tr>\n",
       "    <tr>\n",
       "      <th>1</th>\n",
       "      <td>2</td>\n",
       "      <td>Jumanji (1995)</td>\n",
       "      <td>Adventure|Children|Fantasy</td>\n",
       "    </tr>\n",
       "    <tr>\n",
       "      <th>2</th>\n",
       "      <td>3</td>\n",
       "      <td>Grumpier Old Men (1995)</td>\n",
       "      <td>Comedy|Romance</td>\n",
       "    </tr>\n",
       "    <tr>\n",
       "      <th>3</th>\n",
       "      <td>4</td>\n",
       "      <td>Waiting to Exhale (1995)</td>\n",
       "      <td>Comedy|Drama|Romance</td>\n",
       "    </tr>\n",
       "    <tr>\n",
       "      <th>4</th>\n",
       "      <td>5</td>\n",
       "      <td>Father of the Bride Part II (1995)</td>\n",
       "      <td>Comedy</td>\n",
       "    </tr>\n",
       "    <tr>\n",
       "      <th>...</th>\n",
       "      <td>...</td>\n",
       "      <td>...</td>\n",
       "      <td>...</td>\n",
       "    </tr>\n",
       "    <tr>\n",
       "      <th>195</th>\n",
       "      <td>197</td>\n",
       "      <td>Stars Fell on Henrietta, The (1995)</td>\n",
       "      <td>Drama</td>\n",
       "    </tr>\n",
       "    <tr>\n",
       "      <th>196</th>\n",
       "      <td>198</td>\n",
       "      <td>Strange Days (1995)</td>\n",
       "      <td>Action|Crime|Drama|Mystery|Sci-Fi|Thriller</td>\n",
       "    </tr>\n",
       "    <tr>\n",
       "      <th>197</th>\n",
       "      <td>199</td>\n",
       "      <td>Umbrellas of Cherbourg, The (Parapluies de Che...</td>\n",
       "      <td>Drama|Musical|Romance</td>\n",
       "    </tr>\n",
       "    <tr>\n",
       "      <th>198</th>\n",
       "      <td>200</td>\n",
       "      <td>Tie That Binds, The (1995)</td>\n",
       "      <td>Thriller</td>\n",
       "    </tr>\n",
       "    <tr>\n",
       "      <th>199</th>\n",
       "      <td>201</td>\n",
       "      <td>Three Wishes (1995)</td>\n",
       "      <td>Drama|Fantasy</td>\n",
       "    </tr>\n",
       "  </tbody>\n",
       "</table>\n",
       "<p>200 rows × 3 columns</p>\n",
       "</div>"
      ],
      "text/plain": [
       "     movieId                                              title   \n",
       "0          1                                   Toy Story (1995)  \\\n",
       "1          2                                     Jumanji (1995)   \n",
       "2          3                            Grumpier Old Men (1995)   \n",
       "3          4                           Waiting to Exhale (1995)   \n",
       "4          5                 Father of the Bride Part II (1995)   \n",
       "..       ...                                                ...   \n",
       "195      197                Stars Fell on Henrietta, The (1995)   \n",
       "196      198                                Strange Days (1995)   \n",
       "197      199  Umbrellas of Cherbourg, The (Parapluies de Che...   \n",
       "198      200                         Tie That Binds, The (1995)   \n",
       "199      201                                Three Wishes (1995)   \n",
       "\n",
       "                                          genres  \n",
       "0    Adventure|Animation|Children|Comedy|Fantasy  \n",
       "1                     Adventure|Children|Fantasy  \n",
       "2                                 Comedy|Romance  \n",
       "3                           Comedy|Drama|Romance  \n",
       "4                                         Comedy  \n",
       "..                                           ...  \n",
       "195                                        Drama  \n",
       "196   Action|Crime|Drama|Mystery|Sci-Fi|Thriller  \n",
       "197                        Drama|Musical|Romance  \n",
       "198                                     Thriller  \n",
       "199                                Drama|Fantasy  \n",
       "\n",
       "[200 rows x 3 columns]"
      ]
     },
     "execution_count": 16,
     "metadata": {},
     "output_type": "execute_result"
    }
   ],
   "source": [
    "movies_df1"
   ]
  },
  {
   "cell_type": "code",
   "execution_count": 13,
   "id": "d45fb1e7",
   "metadata": {},
   "outputs": [],
   "source": [
    "df = pd.merge(movies_df1, ratings_df1, on='movieId')"
   ]
  },
  {
   "cell_type": "code",
   "execution_count": 14,
   "id": "69932c33",
   "metadata": {},
   "outputs": [],
   "source": [
    "# Create a pivot table\n",
    "ratings_matrix = df.pivot_table(index='userId', columns='title', values='rating')\n",
    "\n",
    "# Fill missing values with zeros\n",
    "ratings_matrix = ratings_matrix.fillna(0)\n",
    "\n",
    "# Calculate pairwise similarity matrix\n",
    "movie_similarity = cosine_similarity(ratings_matrix.T)"
   ]
  },
  {
   "cell_type": "code",
   "execution_count": 19,
   "id": "7a0880c3",
   "metadata": {},
   "outputs": [
    {
     "data": {
      "text/plain": [
       "['Jumanji (1995)',\n",
       " 'Rob Roy (1995)',\n",
       " 'Rumble in the Bronx (Hont faan kui) (1995)',\n",
       " 'Seven (a.k.a. Se7en) (1995)',\n",
       " 'Twelve Monkeys (a.k.a. 12 Monkeys) (1995)']"
      ]
     },
     "execution_count": 19,
     "metadata": {},
     "output_type": "execute_result"
    }
   ],
   "source": [
    "# Function to get top n similar movies\n",
    "def get_similar_movies(movie_name, n):\n",
    "    movie_index = list(ratings_matrix.columns).index(movie_name)\n",
    "    movie_similarity_score = movie_similarity[movie_index]\n",
    "    movie_similarity_score = list(enumerate(movie_similarity_score))\n",
    "    movie_similarity_score = sorted(movie_similarity_score, key=lambda x: x[1], reverse=True)\n",
    "    movie_similarity_score = movie_similarity_score[1:n+1]\n",
    "    movie_indices = [i[0] for i in movie_similarity_score]\n",
    "    return list(ratings_matrix.columns[movie_indices])\n",
    "\n",
    "# Test the function\n",
    "get_similar_movies('Jumanji (1995)', 5)"
   ]
  }
 ],
 "metadata": {
  "kernelspec": {
   "display_name": "Python 3 (ipykernel)",
   "language": "python",
   "name": "python3"
  },
  "language_info": {
   "codemirror_mode": {
    "name": "ipython",
    "version": 3
   },
   "file_extension": ".py",
   "mimetype": "text/x-python",
   "name": "python",
   "nbconvert_exporter": "python",
   "pygments_lexer": "ipython3",
   "version": "3.9.16"
  }
 },
 "nbformat": 4,
 "nbformat_minor": 5
}
